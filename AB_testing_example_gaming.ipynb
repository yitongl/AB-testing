{
 "cells": [
  {
   "cell_type": "markdown",
   "metadata": {},
   "source": [
    "# Super Math Saga experiment analysis"
   ]
  },
  {
   "cell_type": "markdown",
   "metadata": {},
   "source": [
    "Background: Some time ago we ran an experiment (A/B Test) on the game to improve it’s performance. The experiment offered two different game experiences that we call A and B, group A being the control group where the experience is kept as is, and group B being the experiment group that is exposed to the new experience. We set the assignment process to distribute players among the two groups: 80% to group A (control) and 20% to group B (test). The experiment ran from 2017-05-04 to 2017-05-22.\n",
    "\n",
    "After successfully conducting the test and obtaining the data, there are a few different important metrics that I would like to look at to analyse the results and a few different aspects to determine which version is better and how to quantify them:\n",
    "* Acquisition: Conversion rate (from no purchase to purchase) per group \n",
    "* Player engagement: Average game rounds played per player\n",
    "* Monetization: Average purchases per player\n",
    "* Retention after conversion: Player behaviour after conversion"
   ]
  },
  {
   "cell_type": "markdown",
   "metadata": {},
   "source": [
    "Prepare the environment for this study:"
   ]
  },
  {
   "cell_type": "code",
   "execution_count": 1,
   "metadata": {},
   "outputs": [],
   "source": [
    "%load_ext google.cloud.bigquery\n",
    "import pandas as pd\n",
    "import numpy as np\n",
    "from matplotlib import pyplot as plt\n",
    "%matplotlib inline\n",
    "\n",
    "from google.cloud import bigquery"
   ]
  },
  {
   "cell_type": "code",
   "execution_count": 2,
   "metadata": {},
   "outputs": [
    {
     "name": "stderr",
     "output_type": "stream",
     "text": [
      "/usr/local/lib/python3.7/site-packages/google/auth/_default.py:66: UserWarning: Your application has authenticated using end user credentials from Google Cloud SDK. We recommend that most server applications use service accounts instead. If your application continues to use end user credentials from Cloud SDK, you might receive a \"quota exceeded\" or \"API not enabled\" error. For more information about service accounts, see https://cloud.google.com/docs/authentication/\n",
      "  warnings.warn(_CLOUD_SDK_CREDENTIALS_WARNING)\n"
     ]
    }
   ],
   "source": [
    "client = bigquery.Client()"
   ]
  },
  {
   "cell_type": "markdown",
   "metadata": {},
   "source": [
    "## Calculate conversion rates and confidence intervals"
   ]
  },
  {
   "cell_type": "markdown",
   "metadata": {},
   "source": [
    "Conversion rate is most often used and straight-forward metric in AB testing. In this study, it's thouroughly looked at including the confidence intervals comparision and cumulative conversion rates.\n",
    "Be careful that some of the players have converted before the experiment start date."
   ]
  },
  {
   "cell_type": "code",
   "execution_count": 3,
   "metadata": {},
   "outputs": [],
   "source": [
    "CONV_QUERY = \"\"\"\n",
    "SELECT \n",
    "    abtest_group,\n",
    "    count(playerid) as abtest_entrants,\n",
    "    count(\n",
    "        case\n",
    "        when playerid is not null \n",
    "        and conversion_date >= \"2017-05-04\" then 1 else null \n",
    "        end) \n",
    "        as abtest_conversions\n",
    "FROM `abtest.assignment`\n",
    "GROUP BY 1\n",
    "\"\"\"\n",
    "conversion = client.query(CONV_QUERY).to_dataframe()"
   ]
  },
  {
   "cell_type": "code",
   "execution_count": 4,
   "metadata": {},
   "outputs": [],
   "source": [
    "conversion['conv_rate']=conversion.abtest_conversions/conversion.abtest_entrants"
   ]
  },
  {
   "cell_type": "code",
   "execution_count": 5,
   "metadata": {},
   "outputs": [
    {
     "data": {
      "text/html": [
       "<div>\n",
       "<style scoped>\n",
       "    .dataframe tbody tr th:only-of-type {\n",
       "        vertical-align: middle;\n",
       "    }\n",
       "\n",
       "    .dataframe tbody tr th {\n",
       "        vertical-align: top;\n",
       "    }\n",
       "\n",
       "    .dataframe thead th {\n",
       "        text-align: right;\n",
       "    }\n",
       "</style>\n",
       "<table border=\"1\" class=\"dataframe\">\n",
       "  <thead>\n",
       "    <tr style=\"text-align: right;\">\n",
       "      <th></th>\n",
       "      <th>abtest_group</th>\n",
       "      <th>abtest_entrants</th>\n",
       "      <th>abtest_conversions</th>\n",
       "      <th>conv_rate</th>\n",
       "    </tr>\n",
       "  </thead>\n",
       "  <tbody>\n",
       "    <tr>\n",
       "      <th>0</th>\n",
       "      <td>B</td>\n",
       "      <td>2066213</td>\n",
       "      <td>8505</td>\n",
       "      <td>0.004116</td>\n",
       "    </tr>\n",
       "    <tr>\n",
       "      <th>1</th>\n",
       "      <td>A</td>\n",
       "      <td>8264151</td>\n",
       "      <td>32918</td>\n",
       "      <td>0.003983</td>\n",
       "    </tr>\n",
       "  </tbody>\n",
       "</table>\n",
       "</div>"
      ],
      "text/plain": [
       "  abtest_group  abtest_entrants  abtest_conversions  conv_rate\n",
       "0            B          2066213                8505   0.004116\n",
       "1            A          8264151               32918   0.003983"
      ]
     },
     "execution_count": 5,
     "metadata": {},
     "output_type": "execute_result"
    }
   ],
   "source": [
    "conversion"
   ]
  },
  {
   "cell_type": "markdown",
   "metadata": {},
   "source": [
    "From above stats we can see that the control group and experiment group amount of entrants are about 80% and 20%, respectively.  \n",
    "The overall conversion rate of the B group is slightly better than A group (3% relative increase), but is this result statistically significant?\n",
    "Below we will calculate the confidence intervals of the conversion rate for the two groups:"
   ]
  },
  {
   "cell_type": "code",
   "execution_count": 6,
   "metadata": {},
   "outputs": [],
   "source": [
    "CI_QUERY=\"\"\"\n",
    "with\n",
    "  abtest_conversions as (\n",
    "    select\n",
    "      abtest_group,\n",
    "      count(distinct playerid) as abtest_entrants,\n",
    "      count(\n",
    "        case\n",
    "        when playerid is not null \n",
    "        and conversion_date >= \"2017-05-04\" then 1 else null\n",
    "        end) \n",
    "        as abtest_conversion\n",
    "    from\n",
    "      `abtest.assignment`\n",
    "    group by 1\n",
    "  )\n",
    "  , ab_test_conversion_rates as (\n",
    "    select\n",
    "      abtest_group,\n",
    "      abtest_entrants,\n",
    "      abtest_conversion,\n",
    "      abtest_conversion / abtest_entrants as conversion_rate\n",
    "    from\n",
    "      `abtest_conversions`\n",
    "  )\n",
    "  , conversion_rate_standard_error as (\n",
    "    select\n",
    "      abtest_group,\n",
    "      abtest_entrants,\n",
    "      abtest_conversion,\n",
    "      conversion_rate,\n",
    "      sqrt(conversion_rate * (1 - conversion_rate) / abtest_entrants) as standard_error\n",
    "    from\n",
    "      ab_test_conversion_rates\n",
    "  )\n",
    "select\n",
    "  abtest_group,\n",
    "  abtest_entrants,\n",
    "  abtest_conversion,\n",
    "  conversion_rate - standard_error * 1.96 as conversion_rate_low\n",
    "  , conversion_rate\n",
    "  , conversion_rate + standard_error * 1.96 as conversion_rate_high\n",
    "from\n",
    "  conversion_rate_standard_error\n",
    "\"\"\""
   ]
  },
  {
   "cell_type": "code",
   "execution_count": 7,
   "metadata": {},
   "outputs": [],
   "source": [
    "confidence_interval = client.query(CI_QUERY).to_dataframe()"
   ]
  },
  {
   "cell_type": "code",
   "execution_count": 8,
   "metadata": {
    "scrolled": true
   },
   "outputs": [
    {
     "data": {
      "text/html": [
       "<div>\n",
       "<style scoped>\n",
       "    .dataframe tbody tr th:only-of-type {\n",
       "        vertical-align: middle;\n",
       "    }\n",
       "\n",
       "    .dataframe tbody tr th {\n",
       "        vertical-align: top;\n",
       "    }\n",
       "\n",
       "    .dataframe thead th {\n",
       "        text-align: right;\n",
       "    }\n",
       "</style>\n",
       "<table border=\"1\" class=\"dataframe\">\n",
       "  <thead>\n",
       "    <tr style=\"text-align: right;\">\n",
       "      <th></th>\n",
       "      <th>abtest_group</th>\n",
       "      <th>abtest_entrants</th>\n",
       "      <th>abtest_conversion</th>\n",
       "      <th>conversion_rate_low</th>\n",
       "      <th>conversion_rate</th>\n",
       "      <th>conversion_rate_high</th>\n",
       "    </tr>\n",
       "  </thead>\n",
       "  <tbody>\n",
       "    <tr>\n",
       "      <th>0</th>\n",
       "      <td>B</td>\n",
       "      <td>2066213</td>\n",
       "      <td>8505</td>\n",
       "      <td>0.004030</td>\n",
       "      <td>0.004117</td>\n",
       "      <td>0.004204</td>\n",
       "    </tr>\n",
       "    <tr>\n",
       "      <th>1</th>\n",
       "      <td>A</td>\n",
       "      <td>8264151</td>\n",
       "      <td>32918</td>\n",
       "      <td>0.003941</td>\n",
       "      <td>0.003983</td>\n",
       "      <td>0.004026</td>\n",
       "    </tr>\n",
       "  </tbody>\n",
       "</table>\n",
       "</div>"
      ],
      "text/plain": [
       "  abtest_group  abtest_entrants  abtest_conversion  conversion_rate_low  \\\n",
       "0            B          2066213               8505             0.004030   \n",
       "1            A          8264151              32918             0.003941   \n",
       "\n",
       "   conversion_rate  conversion_rate_high  \n",
       "0         0.004117              0.004204  \n",
       "1         0.003983              0.004026  "
      ]
     },
     "execution_count": 8,
     "metadata": {},
     "output_type": "execute_result"
    }
   ],
   "source": [
    "confidence_interval"
   ]
  },
  {
   "cell_type": "markdown",
   "metadata": {},
   "source": [
    "Exciting! It's demonstrated above that although the difference between the conversion rates is not large, the conversion_rate_high of group A is actually smaller than the conversion_rate_low of group B, which means that the difference is statistically significant with 95% confidence, so that we can confidently say group B has better conversion than group A."
   ]
  },
  {
   "cell_type": "markdown",
   "metadata": {},
   "source": [
    "### Conversion rates over time"
   ]
  },
  {
   "cell_type": "markdown",
   "metadata": {},
   "source": [
    "Since the assignment_date of the abtest entrants are not the same day, we would like to take a deeper look on how the cumulative conversion rate evolves over time."
   ]
  },
  {
   "cell_type": "code",
   "execution_count": 9,
   "metadata": {},
   "outputs": [],
   "source": [
    "cumul_conv_query = \"\"\"\n",
    "WITH abtest_conversion_over_time AS (\n",
    "SELECT \n",
    "    assignment_date,\n",
    "    abtest_group,\n",
    "    count(distinct playerid) as abtest_entrants,\n",
    "    count(case\n",
    "        when playerid is not null \n",
    "        and conversion_date >= \"2017-05-04\" \n",
    "        then 1 else null\n",
    "        end) as abtest_conversions\n",
    "FROM `abtest.assignment` \n",
    "GROUP BY 1,2 \n",
    "ORDER BY 1,2 asc\n",
    ")\n",
    "\n",
    "SELECT \n",
    "  assignment_date,\n",
    "  abtest_group,\n",
    "  sum(abtest_entrants) over(partition by abtest_group order by assignment_date rows unbounded preceding) as cumulative_entrants,\n",
    "  sum(abtest_conversions) over(partition by abtest_group order by assignment_date rows unbounded preceding) as cumulative_conversions\n",
    "FROM `abtest_conversion_over_time`\n",
    "\"\"\"\n",
    "cumulated_conversion = client.query(cumul_conv_query).to_dataframe()"
   ]
  },
  {
   "cell_type": "code",
   "execution_count": 10,
   "metadata": {},
   "outputs": [
    {
     "data": {
      "text/html": [
       "<div>\n",
       "<style scoped>\n",
       "    .dataframe tbody tr th:only-of-type {\n",
       "        vertical-align: middle;\n",
       "    }\n",
       "\n",
       "    .dataframe tbody tr th {\n",
       "        vertical-align: top;\n",
       "    }\n",
       "\n",
       "    .dataframe thead th {\n",
       "        text-align: right;\n",
       "    }\n",
       "</style>\n",
       "<table border=\"1\" class=\"dataframe\">\n",
       "  <thead>\n",
       "    <tr style=\"text-align: right;\">\n",
       "      <th></th>\n",
       "      <th>assignment_date</th>\n",
       "      <th>abtest_group</th>\n",
       "      <th>cumulative_entrants</th>\n",
       "      <th>cumulative_conversions</th>\n",
       "    </tr>\n",
       "  </thead>\n",
       "  <tbody>\n",
       "    <tr>\n",
       "      <th>0</th>\n",
       "      <td>2017-05-04</td>\n",
       "      <td>A</td>\n",
       "      <td>6851011</td>\n",
       "      <td>5048</td>\n",
       "    </tr>\n",
       "    <tr>\n",
       "      <th>1</th>\n",
       "      <td>2017-05-05</td>\n",
       "      <td>A</td>\n",
       "      <td>6915408</td>\n",
       "      <td>6422</td>\n",
       "    </tr>\n",
       "    <tr>\n",
       "      <th>2</th>\n",
       "      <td>2017-05-06</td>\n",
       "      <td>A</td>\n",
       "      <td>7005150</td>\n",
       "      <td>8387</td>\n",
       "    </tr>\n",
       "    <tr>\n",
       "      <th>3</th>\n",
       "      <td>2017-05-07</td>\n",
       "      <td>A</td>\n",
       "      <td>7095445</td>\n",
       "      <td>10429</td>\n",
       "    </tr>\n",
       "    <tr>\n",
       "      <th>4</th>\n",
       "      <td>2017-05-08</td>\n",
       "      <td>A</td>\n",
       "      <td>7167619</td>\n",
       "      <td>11960</td>\n",
       "    </tr>\n",
       "  </tbody>\n",
       "</table>\n",
       "</div>"
      ],
      "text/plain": [
       "  assignment_date abtest_group  cumulative_entrants  cumulative_conversions\n",
       "0      2017-05-04            A              6851011                    5048\n",
       "1      2017-05-05            A              6915408                    6422\n",
       "2      2017-05-06            A              7005150                    8387\n",
       "3      2017-05-07            A              7095445                   10429\n",
       "4      2017-05-08            A              7167619                   11960"
      ]
     },
     "execution_count": 10,
     "metadata": {},
     "output_type": "execute_result"
    }
   ],
   "source": [
    "cumulated_conversion.head()"
   ]
  },
  {
   "cell_type": "code",
   "execution_count": 11,
   "metadata": {},
   "outputs": [],
   "source": [
    "cumulated_conversion['conv_rate']=cumulated_conversion.cumulative_conversions/cumulated_conversion.cumulative_entrants"
   ]
  },
  {
   "cell_type": "code",
   "execution_count": 12,
   "metadata": {},
   "outputs": [
    {
     "data": {
      "text/plain": [
       "<matplotlib.axes._subplots.AxesSubplot at 0x119d256a0>"
      ]
     },
     "execution_count": 12,
     "metadata": {},
     "output_type": "execute_result"
    },
    {
     "data": {
      "image/png": "[encoded data removed]",
      "text/plain": [
       "<Figure size 432x288 with 1 Axes>"
      ]
     },
     "metadata": {
      "needs_background": "light"
     },
     "output_type": "display_data"
    }
   ],
   "source": [
    "pd.pivot_table(cumulated_conversion, values=['conv_rate'], \n",
    "               index = ['assignment_date'], columns=['abtest_group'], aggfunc=np.sum).plot.line(style = 'o-')"
   ]
  },
  {
   "cell_type": "code",
   "execution_count": 13,
   "metadata": {},
   "outputs": [],
   "source": [
    "conv_over_time_query = \"\"\"\n",
    "SELECT \n",
    "    assignment_date,\n",
    "    abtest_group,\n",
    "    count(distinct playerid) as abtest_entrants,\n",
    "    count(case\n",
    "        when playerid is not null \n",
    "        and conversion_date >= \"2017-05-04\" \n",
    "        then 1 else null\n",
    "        end) as abtest_conversions\n",
    "FROM `abtest.assignment` \n",
    "GROUP BY 1,2 \n",
    "ORDER BY 1,2 asc\n",
    "\n",
    "\"\"\"\n",
    "conversion_over_time = client.query(conv_over_time_query).to_dataframe()"
   ]
  },
  {
   "cell_type": "code",
   "execution_count": 14,
   "metadata": {},
   "outputs": [],
   "source": [
    "conversion_over_time['conversion_rate']=conversion_over_time.abtest_conversions/conversion_over_time.abtest_entrants"
   ]
  },
  {
   "cell_type": "code",
   "execution_count": 15,
   "metadata": {},
   "outputs": [
    {
     "data": {
      "text/plain": [
       "<matplotlib.axes._subplots.AxesSubplot at 0x119cfc128>"
      ]
     },
     "execution_count": 15,
     "metadata": {},
     "output_type": "execute_result"
    },
    {
     "data": {
      "image/png": "[encoded data removed]",
      "text/plain": [
       "<Figure size 432x288 with 1 Axes>"
      ]
     },
     "metadata": {
      "needs_background": "light"
     },
     "output_type": "display_data"
    }
   ],
   "source": [
    "pd.pivot_table(conversion_over_time, values=['conversion_rate'], \n",
    "               index = ['assignment_date'], columns=['abtest_group']).plot.line(style = 'o-')"
   ]
  },
  {
   "cell_type": "markdown",
   "metadata": {},
   "source": [
    "We can see that through the period, group B has a few peaks during the beginning with higher conversion rates after the experiment starts but towards the end of the experiment, group A and group B tend to converge on conversion rates.\n"
   ]
  },
  {
   "cell_type": "markdown",
   "metadata": {},
   "source": [
    "## Game play and purchase performance: general and over time"
   ]
  },
  {
   "cell_type": "markdown",
   "metadata": {},
   "source": [
    "For game performance, the average game rounds per player charicterizes the overall enjoyment/smoothness of the game, and the average purchase per player implies the monitization ability of the game. To calculate average number of game rounds and average of number of purchases per player during the period of the abtest: "
   ]
  },
  {
   "cell_type": "code",
   "execution_count": 16,
   "metadata": {},
   "outputs": [],
   "source": [
    "gameplay_query=\"\"\"\n",
    "SELECT \n",
    "    abtest_group,\n",
    "    count(distinct an.playerid) as abtest_entrants,\n",
    "    sum(gameends)/count(distinct an.playerid) as avg_game,\n",
    "    sum(purchases)/count(distinct an.playerid) as avg_purchase\n",
    "FROM `abtest.assignment` as an\n",
    "LEFT JOIN `abtest.activity` as ac using (playerid)\n",
    "WHERE activity_date >= \"2017-05-04\" \n",
    "GROUP BY 1 \n",
    "ORDER BY 1 asc\n",
    "\"\"\"\n",
    "gameplay = client.query(gameplay_query).to_dataframe()"
   ]
  },
  {
   "cell_type": "code",
   "execution_count": 17,
   "metadata": {},
   "outputs": [
    {
     "data": {
      "text/html": [
       "<div>\n",
       "<style scoped>\n",
       "    .dataframe tbody tr th:only-of-type {\n",
       "        vertical-align: middle;\n",
       "    }\n",
       "\n",
       "    .dataframe tbody tr th {\n",
       "        vertical-align: top;\n",
       "    }\n",
       "\n",
       "    .dataframe thead th {\n",
       "        text-align: right;\n",
       "    }\n",
       "</style>\n",
       "<table border=\"1\" class=\"dataframe\">\n",
       "  <thead>\n",
       "    <tr style=\"text-align: right;\">\n",
       "      <th></th>\n",
       "      <th>abtest_group</th>\n",
       "      <th>abtest_entrants</th>\n",
       "      <th>avg_game</th>\n",
       "      <th>avg_purchase</th>\n",
       "    </tr>\n",
       "  </thead>\n",
       "  <tbody>\n",
       "    <tr>\n",
       "      <th>0</th>\n",
       "      <td>A</td>\n",
       "      <td>8264151</td>\n",
       "      <td>158.504712</td>\n",
       "      <td>0.370975</td>\n",
       "    </tr>\n",
       "    <tr>\n",
       "      <th>1</th>\n",
       "      <td>B</td>\n",
       "      <td>2066213</td>\n",
       "      <td>155.656526</td>\n",
       "      <td>0.391012</td>\n",
       "    </tr>\n",
       "  </tbody>\n",
       "</table>\n",
       "</div>"
      ],
      "text/plain": [
       "  abtest_group  abtest_entrants    avg_game  avg_purchase\n",
       "0            A          8264151  158.504712      0.370975\n",
       "1            B          2066213  155.656526      0.391012"
      ]
     },
     "execution_count": 17,
     "metadata": {},
     "output_type": "execute_result"
    }
   ],
   "source": [
    "gameplay #average game rounds and purchases over all abtest entrants"
   ]
  },
  {
   "cell_type": "markdown",
   "metadata": {},
   "source": [
    "**It's shown 2% lower average game play for group B and overall 5% higher purchase rate.** However, these averages imply the mean values of the whole test period per test entrant, and some players might have played only 1 day while some played 19 days. Therefore, we can also take a look at the average game rounds/player/day and average purchase/player/day."
   ]
  },
  {
   "cell_type": "code",
   "execution_count": 18,
   "metadata": {},
   "outputs": [],
   "source": [
    "gameplay_player_day_query=\"\"\"\n",
    "SELECT \n",
    "    playerid,\n",
    "    abtest_group,\n",
    "    count(distinct activity_date) as active_days,\n",
    "    sum(gameends)/count(distinct activity_date) as avg_game,\n",
    "    sum(purchases)/count(distinct activity_date) as avg_purchase\n",
    "FROM `abtest.assignment` as an\n",
    "LEFT JOIN `abtest.activity` as ac using (playerid)\n",
    "WHERE activity_date >= \"2017-05-04\" \n",
    "GROUP BY 1,2 \n",
    "ORDER BY 1,2 asc\n",
    "\"\"\"\n",
    "gameplay_player_day = client.query(gameplay_player_day_query).to_dataframe()"
   ]
  },
  {
   "cell_type": "markdown",
   "metadata": {},
   "source": [
    "The distributions of game play/player/day and purchase/player/day are shown as below, respectively. Both have right screwed distribution with a long tail, with the average purchase has a vast majority of people with 0 purchase, indicating a very small percentage of people making a relatively large impact:"
   ]
  },
  {
   "cell_type": "code",
   "execution_count": 19,
   "metadata": {
    "scrolled": true
   },
   "outputs": [
    {
     "data": {
      "text/plain": [
       "<matplotlib.axes._subplots.AxesSubplot at 0x1227a5e48>"
      ]
     },
     "execution_count": 19,
     "metadata": {},
     "output_type": "execute_result"
    },
    {
     "data": {
      "image/png": "[encoded data removed]",
      "text/plain": [
       "<Figure size 432x288 with 2 Axes>"
      ]
     },
     "metadata": {
      "needs_background": "light"
     },
     "output_type": "display_data"
    }
   ],
   "source": [
    "plt.subplot(121)\n",
    "gameplay_player_day['avg_game'].hist(bins=50)\n",
    "plt.subplot(122)\n",
    "gameplay_player_day['avg_purchase'].hist(bins=50)"
   ]
  },
  {
   "cell_type": "code",
   "execution_count": 20,
   "metadata": {},
   "outputs": [],
   "source": [
    "gameplay_desc=gameplay_player_day[['avg_game','abtest_group','avg_purchase']].groupby('abtest_group').describe()"
   ]
  },
  {
   "cell_type": "code",
   "execution_count": 21,
   "metadata": {},
   "outputs": [
    {
     "data": {
      "text/html": [
       "<div>\n",
       "<style scoped>\n",
       "    .dataframe tbody tr th:only-of-type {\n",
       "        vertical-align: middle;\n",
       "    }\n",
       "\n",
       "    .dataframe tbody tr th {\n",
       "        vertical-align: top;\n",
       "    }\n",
       "\n",
       "    .dataframe thead tr th {\n",
       "        text-align: left;\n",
       "    }\n",
       "\n",
       "    .dataframe thead tr:last-of-type th {\n",
       "        text-align: right;\n",
       "    }\n",
       "</style>\n",
       "<table border=\"1\" class=\"dataframe\">\n",
       "  <thead>\n",
       "    <tr>\n",
       "      <th></th>\n",
       "      <th colspan=\"8\" halign=\"left\">avg_game</th>\n",
       "      <th colspan=\"8\" halign=\"left\">avg_purchase</th>\n",
       "    </tr>\n",
       "    <tr>\n",
       "      <th></th>\n",
       "      <th>count</th>\n",
       "      <th>mean</th>\n",
       "      <th>std</th>\n",
       "      <th>min</th>\n",
       "      <th>25%</th>\n",
       "      <th>50%</th>\n",
       "      <th>75%</th>\n",
       "      <th>max</th>\n",
       "      <th>count</th>\n",
       "      <th>mean</th>\n",
       "      <th>std</th>\n",
       "      <th>min</th>\n",
       "      <th>25%</th>\n",
       "      <th>50%</th>\n",
       "      <th>75%</th>\n",
       "      <th>max</th>\n",
       "    </tr>\n",
       "    <tr>\n",
       "      <th>abtest_group</th>\n",
       "      <th></th>\n",
       "      <th></th>\n",
       "      <th></th>\n",
       "      <th></th>\n",
       "      <th></th>\n",
       "      <th></th>\n",
       "      <th></th>\n",
       "      <th></th>\n",
       "      <th></th>\n",
       "      <th></th>\n",
       "      <th></th>\n",
       "      <th></th>\n",
       "      <th></th>\n",
       "      <th></th>\n",
       "      <th></th>\n",
       "      <th></th>\n",
       "    </tr>\n",
       "  </thead>\n",
       "  <tbody>\n",
       "    <tr>\n",
       "      <th>A</th>\n",
       "      <td>8264151.0</td>\n",
       "      <td>13.179563</td>\n",
       "      <td>9.684919</td>\n",
       "      <td>0.0</td>\n",
       "      <td>8.133333</td>\n",
       "      <td>10.000000</td>\n",
       "      <td>14.142857</td>\n",
       "      <td>127.0</td>\n",
       "      <td>8264151.0</td>\n",
       "      <td>0.030822</td>\n",
       "      <td>0.829781</td>\n",
       "      <td>0.0</td>\n",
       "      <td>0.0</td>\n",
       "      <td>0.0</td>\n",
       "      <td>0.0</td>\n",
       "      <td>880.642857</td>\n",
       "    </tr>\n",
       "    <tr>\n",
       "      <th>B</th>\n",
       "      <td>2066213.0</td>\n",
       "      <td>12.960304</td>\n",
       "      <td>9.522036</td>\n",
       "      <td>0.0</td>\n",
       "      <td>8.000000</td>\n",
       "      <td>9.933333</td>\n",
       "      <td>14.000000</td>\n",
       "      <td>121.0</td>\n",
       "      <td>2066213.0</td>\n",
       "      <td>0.032595</td>\n",
       "      <td>0.713006</td>\n",
       "      <td>0.0</td>\n",
       "      <td>0.0</td>\n",
       "      <td>0.0</td>\n",
       "      <td>0.0</td>\n",
       "      <td>273.230769</td>\n",
       "    </tr>\n",
       "  </tbody>\n",
       "</table>\n",
       "</div>"
      ],
      "text/plain": [
       "               avg_game                                                 \\\n",
       "                  count       mean       std  min       25%        50%   \n",
       "abtest_group                                                             \n",
       "A             8264151.0  13.179563  9.684919  0.0  8.133333  10.000000   \n",
       "B             2066213.0  12.960304  9.522036  0.0  8.000000   9.933333   \n",
       "\n",
       "                               avg_purchase                                \\\n",
       "                    75%    max        count      mean       std  min  25%   \n",
       "abtest_group                                                                \n",
       "A             14.142857  127.0    8264151.0  0.030822  0.829781  0.0  0.0   \n",
       "B             14.000000  121.0    2066213.0  0.032595  0.713006  0.0  0.0   \n",
       "\n",
       "                                    \n",
       "              50%  75%         max  \n",
       "abtest_group                        \n",
       "A             0.0  0.0  880.642857  \n",
       "B             0.0  0.0  273.230769  "
      ]
     },
     "execution_count": 21,
     "metadata": {},
     "output_type": "execute_result"
    }
   ],
   "source": [
    "gameplay_desc"
   ]
  },
  {
   "cell_type": "markdown",
   "metadata": {},
   "source": [
    "Since these two metrics are non-normally distributed, if we want to know wether the difference between group A and B are significant, we should use methods such as bootstraping to calculate the confidence intervals."
   ]
  },
  {
   "cell_type": "code",
   "execution_count": 22,
   "metadata": {},
   "outputs": [],
   "source": [
    "import scipy\n",
    "import scikits.bootstrap as bootstrap  "
   ]
  },
  {
   "cell_type": "markdown",
   "metadata": {},
   "source": [
    "*Average game rounds/player/day:*"
   ]
  },
  {
   "cell_type": "code",
   "execution_count": 23,
   "metadata": {
    "scrolled": true
   },
   "outputs": [
    {
     "name": "stdout",
     "output_type": "stream",
     "text": [
      "Bootstrapped 95% confidence intervals low and high for group A are: 13.103303509670242 13.225036077775638\n",
      "Bootstrapped 95% confidence intervals low and high for group A are: 12.866154848803756 12.98360203240662\n"
     ]
    }
   ],
   "source": [
    "CI_A = bootstrap.ci(data=gameplay_player_day[gameplay_player_day.abtest_group=='A']['avg_game'][0:100000], statfunction=scipy.mean)\n",
    "CI_B = bootstrap.ci(data=gameplay_player_day[gameplay_player_day.abtest_group=='B']['avg_game'][0:100000], statfunction=scipy.mean)\n",
    "print (\"Bootstrapped 95% confidence intervals low and high for group A are:\", CI_A[0], CI_A[1] )\n",
    "print (\"Bootstrapped 95% confidence intervals low and high for group A are:\", CI_B[0], CI_B[1] )"
   ]
  },
  {
   "cell_type": "markdown",
   "metadata": {},
   "source": [
    "*Average purchase/player/day*:"
   ]
  },
  {
   "cell_type": "code",
   "execution_count": 24,
   "metadata": {},
   "outputs": [
    {
     "name": "stdout",
     "output_type": "stream",
     "text": [
      "Bootstrapped 95% confidence intervals low and high for group A are: 0.026696208201499223 0.032045227443308316\n",
      "Bootstrapped 95% confidence intervals low and high for group A are: 0.0272067368182643 0.03361617571515173\n"
     ]
    }
   ],
   "source": [
    "CI_A = bootstrap.ci(data=gameplay_player_day[gameplay_player_day.abtest_group=='A']['avg_purchase'][0:100000], statfunction=scipy.mean)\n",
    "CI_B = bootstrap.ci(data=gameplay_player_day[gameplay_player_day.abtest_group=='B']['avg_purchase'][0:100000], statfunction=scipy.mean)\n",
    "print (\"Bootstrapped 95% confidence intervals low and high for group A are:\", CI_A[0], CI_A[1] )\n",
    "print (\"Bootstrapped 95% confidence intervals low and high for group A are:\", CI_B[0], CI_B[1] )"
   ]
  },
  {
   "cell_type": "markdown",
   "metadata": {},
   "source": [
    "According to the results above, we can see that group B's average daily game play is lower with 95% confidence, however, we cannot confidently say that group B's daily average purchase is higher than group A, it could be due to variation."
   ]
  },
  {
   "cell_type": "markdown",
   "metadata": {},
   "source": [
    "Let's take a closer look at how the performance metrics per group over time **before and after the experiment starts:**"
   ]
  },
  {
   "cell_type": "code",
   "execution_count": 25,
   "metadata": {},
   "outputs": [],
   "source": [
    "gameplay_overtime_query=\"\"\"\n",
    "SELECT \n",
    "    activity_date,\n",
    "    abtest_group,\n",
    "    count(distinct an.playerid) as players,\n",
    "    sum(gameends)/count(distinct an.playerid) as avg_game,\n",
    "    sum(purchases)/count(distinct an.playerid) as avg_purchase\n",
    "FROM `abtest.assignment` as an\n",
    "LEFT JOIN `abtest.activity` as ac using (playerid)\n",
    "GROUP BY 1,2 \n",
    "ORDER BY 1,2 asc\n",
    "\"\"\"\n",
    "perform_over_time = client.query(gameplay_overtime_query).to_dataframe()"
   ]
  },
  {
   "cell_type": "markdown",
   "metadata": {},
   "source": [
    "**Average game rounds/player by day**: \n",
    "We can see that after the experiment starts (2017-05-04), group B (Experiment group) has been dropping in avg game rounds since the experiment starts, while the control group has stayed stable, which is a indication of the treatment has lowered the engagement due to some factor, e.g. game difficulty increased or waiting time increased etc."
   ]
  },
  {
   "cell_type": "code",
   "execution_count": 26,
   "metadata": {
    "scrolled": true
   },
   "outputs": [
    {
     "data": {
      "text/plain": [
       "<matplotlib.legend.Legend at 0x11d269748>"
      ]
     },
     "execution_count": 26,
     "metadata": {},
     "output_type": "execute_result"
    },
    {
     "data": {
      "image/png": "[encoded data removed]",
      "text/plain": [
       "<Figure size 432x288 with 1 Axes>"
      ]
     },
     "metadata": {
      "needs_background": "light"
     },
     "output_type": "display_data"
    }
   ],
   "source": [
    "fig, ax = plt.subplots()\n",
    "pd.pivot_table(perform_over_time, values=['avg_game'], \n",
    "               index = ['activity_date'], columns=['abtest_group']).plot.line(style = 'o-', ax=ax)\n",
    "ax.axvline(x=14 , color='red', linewidth=2, label='test_start')\n",
    "ax.legend(loc='lower left')"
   ]
  },
  {
   "cell_type": "markdown",
   "metadata": {},
   "source": [
    "**Average purchases/player by day**: \n",
    "If we look at the average purchase performance during this experiment period, we can see that after the experiment starts, the purchases peaked for group B while group A remains relatively stable. However, at the end of the study, the purchase rate decreased to normal/group A level."
   ]
  },
  {
   "cell_type": "code",
   "execution_count": 27,
   "metadata": {},
   "outputs": [
    {
     "data": {
      "text/plain": [
       "<matplotlib.legend.Legend at 0x11d2a19e8>"
      ]
     },
     "execution_count": 27,
     "metadata": {},
     "output_type": "execute_result"
    },
    {
     "data": {
      "image/png": "[encoded data removed]",
      "text/plain": [
       "<Figure size 432x288 with 1 Axes>"
      ]
     },
     "metadata": {
      "needs_background": "light"
     },
     "output_type": "display_data"
    }
   ],
   "source": [
    "fig, ax = plt.subplots()\n",
    "pd.pivot_table(perform_over_time, values=['avg_purchase'], \n",
    "               index = ['activity_date'], columns=['abtest_group']).plot.line(style = 'o-', ax=ax)\n",
    "ax.axvline(x=14 , color='red', linewidth=2, label='test_start')\n",
    "ax.legend(loc='upper left')"
   ]
  },
  {
   "cell_type": "markdown",
   "metadata": {},
   "source": [
    "## Retention Analysis"
   ]
  },
  {
   "cell_type": "markdown",
   "metadata": {},
   "source": [
    "It seems that the average purchases have been higher and it's confirmed that we have more conversions in Group B during the experiment, however, the average number of game rounds has dropped and the average of purchases have peaked and dropped again we would like to take a closer look at the retention of the players after the experiment? \n",
    "* Did the players churn faster after they have converted during the experiment? \n",
    "\n",
    "* The method: to look at the activity data e.g. game rounds and purchases after a player has converted by day, compare the test group with the control group. "
   ]
  },
  {
   "cell_type": "code",
   "execution_count": 28,
   "metadata": {},
   "outputs": [],
   "source": [
    "retention_query=\"\"\"\n",
    "with retention as (\n",
    "SELECT\n",
    "conversion_date,\n",
    "date_diff(PARSE_DATE('%F', activity_date),PARSE_DATE('%F', conversion_date),day) as day_after_conv,\n",
    "abtest_group,\n",
    "count(distinct an.playerid) as abtest_converters,\n",
    "sum(gameends)/count(distinct an.playerid) as avg_game,\n",
    "sum(purchases)/count(distinct an.playerid) as avg_purchase\n",
    "FROM `abtest.assignment` as an\n",
    "INNER JOIN `abtest.activity` as ac using (playerid)\n",
    "WHERE conversion_date >= \"2017-05-04\" and activity_date >= conversion_date\n",
    "GROUP BY 1,2,3\n",
    "ORDER BY 1,2,3 asc\n",
    ")\n",
    "\n",
    "select \n",
    "day_after_conv, \n",
    "abtest_group,\n",
    "avg(avg_game) as avg_game_per_day,\n",
    "avg(avg_purchase) as avg_purchase_per_day\n",
    "from `retention`\n",
    "group by 1,2\n",
    "order by 1,2 asc\n",
    "\"\"\"\n",
    "retention_by_day = client.query(retention_query).to_dataframe()"
   ]
  },
  {
   "cell_type": "markdown",
   "metadata": {},
   "source": [
    "As shown below are how players behave after aquisition(purchase), we can see that all players tend to play and purchase more on the same day of conversion. Afterwards, both game play rate and purchase rate drop significantly. For purchase rate, group B is significantly higher at the begining but it demonstrates a downwards trend while group A is relatively stable. For gameplay rate, group B shows a lot more volatility after the first day of conversion while group A is rather stable."
   ]
  },
  {
   "cell_type": "code",
   "execution_count": 29,
   "metadata": {},
   "outputs": [
    {
     "data": {
      "text/plain": [
       "<matplotlib.axes._subplots.AxesSubplot at 0x11d350710>"
      ]
     },
     "execution_count": 29,
     "metadata": {},
     "output_type": "execute_result"
    },
    {
     "data": {
      "image/png": "[encoded data removed]",
      "text/plain": [
       "<Figure size 432x288 with 1 Axes>"
      ]
     },
     "metadata": {
      "needs_background": "light"
     },
     "output_type": "display_data"
    }
   ],
   "source": [
    "pd.pivot_table(retention_by_day, values=['avg_purchase_per_day'], \n",
    "               index = ['day_after_conv'], columns=['abtest_group']).plot.line(style = 'o-')"
   ]
  },
  {
   "cell_type": "code",
   "execution_count": 30,
   "metadata": {},
   "outputs": [
    {
     "data": {
      "text/plain": [
       "<matplotlib.axes._subplots.AxesSubplot at 0x11d81da20>"
      ]
     },
     "execution_count": 30,
     "metadata": {},
     "output_type": "execute_result"
    },
    {
     "data": {
      "image/png": "[encoded data removed]",
      "text/plain": [
       "<Figure size 432x288 with 1 Axes>"
      ]
     },
     "metadata": {
      "needs_background": "light"
     },
     "output_type": "display_data"
    }
   ],
   "source": [
    "pd.pivot_table(retention_by_day, values=['avg_game_per_day'], \n",
    "               index = ['day_after_conv'], columns=['abtest_group']).plot.line(style = 'o-')"
   ]
  },
  {
   "cell_type": "markdown",
   "metadata": {},
   "source": [
    "## Conclusion"
   ]
  },
  {
   "cell_type": "markdown",
   "metadata": {},
   "source": [
    "By analysing a few KPIs such as conversion rate, average game rounds and average purchases in the test results, we can conclude the following points:\n",
    "\n",
    "* The treatment increased the conversion of purchase, but increase is concentrated on the beginning of the experiment period\n",
    "* The treatment has an effect of decreasing the average game rounds played \n",
    "* The treatment increased the overall average number of purchases during the period of abtest\n",
    "* Although the abtest cannot determine any long term effect, the treatment MIGHT affect user retention negatively.\n",
    "\n",
    "The overall test is successful since the treatment did confidently increse the conversion rate. However, the new treatment will lower customer engagement e.g. average game rounds/player/day, and the increase of purchases seems to be concentrated in the begining of the abtest, which indicates that the treatment might not have a longer term effect on player purchase behaviour. For further investigation, we may want to monitor group B for a bit longer time and study player loyalty and player behavior after conversion. \n",
    "\n",
    "The introduced treatment might be:\n",
    "* Increase of difficulty so that players get more frustrated and played less and bought more boosters/lives\n",
    "* Increase of waiting time before getting new lives, or getting less lives per time, since players are playing less frequently, while some are buying more lives."
   ]
  },
  {
   "cell_type": "code",
   "execution_count": null,
   "metadata": {},
   "outputs": [],
   "source": []
  }
 ],
 "metadata": {
  "kernelspec": {
   "display_name": "Python 3",
   "language": "python",
   "name": "python3"
  },
  "language_info": {
   "codemirror_mode": {
    "name": "ipython",
    "version": 3
   },
   "file_extension": ".py",
   "mimetype": "text/x-python",
   "name": "python",
   "nbconvert_exporter": "python",
   "pygments_lexer": "ipython3",
   "version": "3.6.5"
  }
 },
 "nbformat": 4,
 "nbformat_minor": 2
}
